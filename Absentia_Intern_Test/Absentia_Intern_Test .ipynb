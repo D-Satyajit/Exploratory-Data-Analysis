{
 "cells": [
  {
   "cell_type": "markdown",
   "metadata": {},
   "source": [
    "\n",
    "  <h1 class=\"display-3\">Insights on User Behaviour of using Game App in Python</h1>\n",
    "  <h3>For Churn Prediction</h3>\n",
    "  <hr>"
   ]
  },
  {
   "cell_type": "code",
   "execution_count": 1,
   "metadata": {
    "collapsed": true
   },
   "outputs": [],
   "source": [
    "import numpy as np\n",
    "import pandas as pd\n",
    "import seaborn as sns\n",
    "import matplotlib.pyplot as plt\n",
    "from pandas import Series, DataFrame\n",
    "\n",
    "import sklearn\n",
    "from datetime import datetime"
   ]
  },
  {
   "cell_type": "markdown",
   "metadata": {},
   "source": [
    "<a id=\"ImportingDatasets\"></a>\n",
    "# Importing Dataset\n",
    "<hr>"
   ]
  },
  {
   "cell_type": "code",
   "execution_count": 2,
   "metadata": {},
   "outputs": [
    {
     "data": {
      "text/plain": [
       "(10000, 4)"
      ]
     },
     "execution_count": 2,
     "metadata": {},
     "output_type": "execute_result"
    }
   ],
   "source": [
    "# Importing Datset\n",
    "gameuser_data = pd.read_csv(\"F:\\Lectures\\Data Science\\Projects\\Python\\Datasets\\data_vis_test.csv\")\n",
    "gameuser_data = pd.DataFrame(gameuser_data) # Creating a pandas data frame and storing it in a vector\n",
    "gameuser_data.shape # Shape gives you total number of observations and variables present in datasets"
   ]
  },
  {
   "cell_type": "code",
   "execution_count": 3,
   "metadata": {},
   "outputs": [
    {
     "name": "stdout",
     "output_type": "stream",
     "text": [
      "<class 'pandas.core.frame.DataFrame'>\n",
      "RangeIndex: 10000 entries, 0 to 9999\n",
      "Data columns (total 4 columns):\n",
      "user_id                        9998 non-null object\n",
      "first_open_timestamp_micros    9995 non-null float64\n",
      "mobile_brand_name              9383 non-null object\n",
      "device_model                   10000 non-null object\n",
      "dtypes: float64(1), object(3)\n",
      "memory usage: 312.6+ KB\n"
     ]
    },
    {
     "data": {
      "text/html": [
       "<div>\n",
       "<style>\n",
       "    .dataframe thead tr:only-child th {\n",
       "        text-align: right;\n",
       "    }\n",
       "\n",
       "    .dataframe thead th {\n",
       "        text-align: left;\n",
       "    }\n",
       "\n",
       "    .dataframe tbody tr th {\n",
       "        vertical-align: top;\n",
       "    }\n",
       "</style>\n",
       "<table border=\"1\" class=\"dataframe\">\n",
       "  <thead>\n",
       "    <tr style=\"text-align: right;\">\n",
       "      <th></th>\n",
       "      <th>user_id</th>\n",
       "      <th>first_open_timestamp_micros</th>\n",
       "      <th>mobile_brand_name</th>\n",
       "      <th>device_model</th>\n",
       "    </tr>\n",
       "  </thead>\n",
       "  <tbody>\n",
       "    <tr>\n",
       "      <th>0</th>\n",
       "      <td>59742df346ab8ae80d7320e5</td>\n",
       "      <td>1.509260e+15</td>\n",
       "      <td>Samsung</td>\n",
       "      <td>SM-J200G</td>\n",
       "    </tr>\n",
       "    <tr>\n",
       "      <th>1</th>\n",
       "      <td>59d23b4cb2cb0511457c3718</td>\n",
       "      <td>1.506950e+15</td>\n",
       "      <td>Xiaomi</td>\n",
       "      <td>Redmi 4A</td>\n",
       "    </tr>\n",
       "    <tr>\n",
       "      <th>2</th>\n",
       "      <td>59c8671a625fbbd425d735ae</td>\n",
       "      <td>1.506310e+15</td>\n",
       "      <td>NaN</td>\n",
       "      <td>Swipe_Elite_3</td>\n",
       "    </tr>\n",
       "    <tr>\n",
       "      <th>3</th>\n",
       "      <td>591ff88228d8f8c86bfd75bf</td>\n",
       "      <td>1.506840e+15</td>\n",
       "      <td>OPPO</td>\n",
       "      <td>A37f</td>\n",
       "    </tr>\n",
       "    <tr>\n",
       "      <th>4</th>\n",
       "      <td>59feaccfa3c446c82ca3e68c</td>\n",
       "      <td>1.509860e+15</td>\n",
       "      <td>Sony</td>\n",
       "      <td>C6902</td>\n",
       "    </tr>\n",
       "    <tr>\n",
       "      <th>5</th>\n",
       "      <td>59f13874bb299b692aeef502</td>\n",
       "      <td>1.508980e+15</td>\n",
       "      <td>Samsung</td>\n",
       "      <td>SM-J700F</td>\n",
       "    </tr>\n",
       "    <tr>\n",
       "      <th>6</th>\n",
       "      <td>59d4f647bb299b692add0d24</td>\n",
       "      <td>1.506860e+15</td>\n",
       "      <td>NaN</td>\n",
       "      <td>OctaOne_5</td>\n",
       "    </tr>\n",
       "    <tr>\n",
       "      <th>7</th>\n",
       "      <td>59d8bafdfc67610b4500232b</td>\n",
       "      <td>1.506880e+15</td>\n",
       "      <td>Xiaomi</td>\n",
       "      <td>Redmi Note 4</td>\n",
       "    </tr>\n",
       "    <tr>\n",
       "      <th>8</th>\n",
       "      <td>59cc674efc67610b45f1c83b</td>\n",
       "      <td>1.506570e+15</td>\n",
       "      <td>Xiaomi</td>\n",
       "      <td>Redmi Note 4</td>\n",
       "    </tr>\n",
       "    <tr>\n",
       "      <th>9</th>\n",
       "      <td>58b072b134182301374ff77d</td>\n",
       "      <td>1.506420e+15</td>\n",
       "      <td>Vivo</td>\n",
       "      <td>vivo Y51L</td>\n",
       "    </tr>\n",
       "  </tbody>\n",
       "</table>\n",
       "</div>"
      ],
      "text/plain": [
       "                    user_id  first_open_timestamp_micros mobile_brand_name  \\\n",
       "0  59742df346ab8ae80d7320e5                 1.509260e+15           Samsung   \n",
       "1  59d23b4cb2cb0511457c3718                 1.506950e+15            Xiaomi   \n",
       "2  59c8671a625fbbd425d735ae                 1.506310e+15               NaN   \n",
       "3  591ff88228d8f8c86bfd75bf                 1.506840e+15              OPPO   \n",
       "4  59feaccfa3c446c82ca3e68c                 1.509860e+15              Sony   \n",
       "5  59f13874bb299b692aeef502                 1.508980e+15           Samsung   \n",
       "6  59d4f647bb299b692add0d24                 1.506860e+15               NaN   \n",
       "7  59d8bafdfc67610b4500232b                 1.506880e+15            Xiaomi   \n",
       "8  59cc674efc67610b45f1c83b                 1.506570e+15            Xiaomi   \n",
       "9  58b072b134182301374ff77d                 1.506420e+15              Vivo   \n",
       "\n",
       "    device_model  \n",
       "0       SM-J200G  \n",
       "1       Redmi 4A  \n",
       "2  Swipe_Elite_3  \n",
       "3           A37f  \n",
       "4          C6902  \n",
       "5       SM-J700F  \n",
       "6      OctaOne_5  \n",
       "7   Redmi Note 4  \n",
       "8   Redmi Note 4  \n",
       "9      vivo Y51L  "
      ]
     },
     "execution_count": 3,
     "metadata": {},
     "output_type": "execute_result"
    }
   ],
   "source": [
    "gameuser_data.info() # Info gives you name of each variable with the data type associated with it.\n",
    "gameuser_data.head(10) # Head gives you first few rows of the dataset. (3 is the nummber of rows)"
   ]
  },
  {
   "cell_type": "markdown",
   "metadata": {},
   "source": [
    "#### From above it can be seen that the given dataset has 10K observations and 4 variables. "
   ]
  },
  {
   "cell_type": "markdown",
   "metadata": {},
   "source": [
    "<a id=\"FindNULLVal\"></a>\n",
    "# Converting Timestamp into Date and Time\n",
    "<hr>"
   ]
  },
  {
   "cell_type": "markdown",
   "metadata": {},
   "source": [
    "#### Assuming the Timestamps are as per the Indian standard time."
   ]
  },
  {
   "cell_type": "code",
   "execution_count": 4,
   "metadata": {
    "collapsed": true
   },
   "outputs": [],
   "source": [
    "gameuser_data['first_open_timestamp_micros'] = pd.to_datetime(gameuser_data['first_open_timestamp_micros'], unit='us')"
   ]
  },
  {
   "cell_type": "code",
   "execution_count": 5,
   "metadata": {
    "scrolled": true
   },
   "outputs": [
    {
     "data": {
      "text/html": [
       "<div>\n",
       "<style>\n",
       "    .dataframe thead tr:only-child th {\n",
       "        text-align: right;\n",
       "    }\n",
       "\n",
       "    .dataframe thead th {\n",
       "        text-align: left;\n",
       "    }\n",
       "\n",
       "    .dataframe tbody tr th {\n",
       "        vertical-align: top;\n",
       "    }\n",
       "</style>\n",
       "<table border=\"1\" class=\"dataframe\">\n",
       "  <thead>\n",
       "    <tr style=\"text-align: right;\">\n",
       "      <th></th>\n",
       "      <th>user_id</th>\n",
       "      <th>first_open_timestamp_micros</th>\n",
       "      <th>mobile_brand_name</th>\n",
       "      <th>device_model</th>\n",
       "    </tr>\n",
       "  </thead>\n",
       "  <tbody>\n",
       "    <tr>\n",
       "      <th>0</th>\n",
       "      <td>59742df346ab8ae80d7320e5</td>\n",
       "      <td>2017-10-29 06:53:20</td>\n",
       "      <td>Samsung</td>\n",
       "      <td>SM-J200G</td>\n",
       "    </tr>\n",
       "    <tr>\n",
       "      <th>1</th>\n",
       "      <td>59d23b4cb2cb0511457c3718</td>\n",
       "      <td>2017-10-02 13:13:20</td>\n",
       "      <td>Xiaomi</td>\n",
       "      <td>Redmi 4A</td>\n",
       "    </tr>\n",
       "    <tr>\n",
       "      <th>2</th>\n",
       "      <td>59c8671a625fbbd425d735ae</td>\n",
       "      <td>2017-09-25 03:26:40</td>\n",
       "      <td>NaN</td>\n",
       "      <td>Swipe_Elite_3</td>\n",
       "    </tr>\n",
       "  </tbody>\n",
       "</table>\n",
       "</div>"
      ],
      "text/plain": [
       "                    user_id first_open_timestamp_micros mobile_brand_name  \\\n",
       "0  59742df346ab8ae80d7320e5         2017-10-29 06:53:20           Samsung   \n",
       "1  59d23b4cb2cb0511457c3718         2017-10-02 13:13:20            Xiaomi   \n",
       "2  59c8671a625fbbd425d735ae         2017-09-25 03:26:40               NaN   \n",
       "\n",
       "    device_model  \n",
       "0       SM-J200G  \n",
       "1       Redmi 4A  \n",
       "2  Swipe_Elite_3  "
      ]
     },
     "execution_count": 5,
     "metadata": {},
     "output_type": "execute_result"
    }
   ],
   "source": [
    "gameuser_data.head(3)"
   ]
  },
  {
   "cell_type": "markdown",
   "metadata": {},
   "source": [
    "#### Sperating "
   ]
  },
  {
   "cell_type": "code",
   "execution_count": 6,
   "metadata": {
    "collapsed": true
   },
   "outputs": [],
   "source": [
    "gameuser_data[\"Date\"] = gameuser_data['first_open_timestamp_micros'].dt.date\n",
    "gameuser_data[\"Time\"] = gameuser_data['first_open_timestamp_micros'].dt.time"
   ]
  },
  {
   "cell_type": "code",
   "execution_count": 7,
   "metadata": {},
   "outputs": [
    {
     "data": {
      "text/html": [
       "<div>\n",
       "<style>\n",
       "    .dataframe thead tr:only-child th {\n",
       "        text-align: right;\n",
       "    }\n",
       "\n",
       "    .dataframe thead th {\n",
       "        text-align: left;\n",
       "    }\n",
       "\n",
       "    .dataframe tbody tr th {\n",
       "        vertical-align: top;\n",
       "    }\n",
       "</style>\n",
       "<table border=\"1\" class=\"dataframe\">\n",
       "  <thead>\n",
       "    <tr style=\"text-align: right;\">\n",
       "      <th></th>\n",
       "      <th>user_id</th>\n",
       "      <th>first_open_timestamp_micros</th>\n",
       "      <th>mobile_brand_name</th>\n",
       "      <th>device_model</th>\n",
       "      <th>Date</th>\n",
       "      <th>Time</th>\n",
       "    </tr>\n",
       "  </thead>\n",
       "  <tbody>\n",
       "    <tr>\n",
       "      <th>0</th>\n",
       "      <td>59742df346ab8ae80d7320e5</td>\n",
       "      <td>2017-10-29 06:53:20</td>\n",
       "      <td>Samsung</td>\n",
       "      <td>SM-J200G</td>\n",
       "      <td>2017-10-29</td>\n",
       "      <td>06:53:20</td>\n",
       "    </tr>\n",
       "    <tr>\n",
       "      <th>1</th>\n",
       "      <td>59d23b4cb2cb0511457c3718</td>\n",
       "      <td>2017-10-02 13:13:20</td>\n",
       "      <td>Xiaomi</td>\n",
       "      <td>Redmi 4A</td>\n",
       "      <td>2017-10-02</td>\n",
       "      <td>13:13:20</td>\n",
       "    </tr>\n",
       "    <tr>\n",
       "      <th>2</th>\n",
       "      <td>59c8671a625fbbd425d735ae</td>\n",
       "      <td>2017-09-25 03:26:40</td>\n",
       "      <td>NaN</td>\n",
       "      <td>Swipe_Elite_3</td>\n",
       "      <td>2017-09-25</td>\n",
       "      <td>03:26:40</td>\n",
       "    </tr>\n",
       "    <tr>\n",
       "      <th>3</th>\n",
       "      <td>591ff88228d8f8c86bfd75bf</td>\n",
       "      <td>2017-10-01 06:40:00</td>\n",
       "      <td>OPPO</td>\n",
       "      <td>A37f</td>\n",
       "      <td>2017-10-01</td>\n",
       "      <td>06:40:00</td>\n",
       "    </tr>\n",
       "    <tr>\n",
       "      <th>4</th>\n",
       "      <td>59feaccfa3c446c82ca3e68c</td>\n",
       "      <td>2017-11-05 05:33:20</td>\n",
       "      <td>Sony</td>\n",
       "      <td>C6902</td>\n",
       "      <td>2017-11-05</td>\n",
       "      <td>05:33:20</td>\n",
       "    </tr>\n",
       "    <tr>\n",
       "      <th>5</th>\n",
       "      <td>59f13874bb299b692aeef502</td>\n",
       "      <td>2017-10-26 01:06:40</td>\n",
       "      <td>Samsung</td>\n",
       "      <td>SM-J700F</td>\n",
       "      <td>2017-10-26</td>\n",
       "      <td>01:06:40</td>\n",
       "    </tr>\n",
       "    <tr>\n",
       "      <th>6</th>\n",
       "      <td>59d4f647bb299b692add0d24</td>\n",
       "      <td>2017-10-01 12:13:20</td>\n",
       "      <td>NaN</td>\n",
       "      <td>OctaOne_5</td>\n",
       "      <td>2017-10-01</td>\n",
       "      <td>12:13:20</td>\n",
       "    </tr>\n",
       "    <tr>\n",
       "      <th>7</th>\n",
       "      <td>59d8bafdfc67610b4500232b</td>\n",
       "      <td>2017-10-01 17:46:40</td>\n",
       "      <td>Xiaomi</td>\n",
       "      <td>Redmi Note 4</td>\n",
       "      <td>2017-10-01</td>\n",
       "      <td>17:46:40</td>\n",
       "    </tr>\n",
       "    <tr>\n",
       "      <th>8</th>\n",
       "      <td>59cc674efc67610b45f1c83b</td>\n",
       "      <td>2017-09-28 03:40:00</td>\n",
       "      <td>Xiaomi</td>\n",
       "      <td>Redmi Note 4</td>\n",
       "      <td>2017-09-28</td>\n",
       "      <td>03:40:00</td>\n",
       "    </tr>\n",
       "    <tr>\n",
       "      <th>9</th>\n",
       "      <td>58b072b134182301374ff77d</td>\n",
       "      <td>2017-09-26 10:00:00</td>\n",
       "      <td>Vivo</td>\n",
       "      <td>vivo Y51L</td>\n",
       "      <td>2017-09-26</td>\n",
       "      <td>10:00:00</td>\n",
       "    </tr>\n",
       "  </tbody>\n",
       "</table>\n",
       "</div>"
      ],
      "text/plain": [
       "                    user_id first_open_timestamp_micros mobile_brand_name  \\\n",
       "0  59742df346ab8ae80d7320e5         2017-10-29 06:53:20           Samsung   \n",
       "1  59d23b4cb2cb0511457c3718         2017-10-02 13:13:20            Xiaomi   \n",
       "2  59c8671a625fbbd425d735ae         2017-09-25 03:26:40               NaN   \n",
       "3  591ff88228d8f8c86bfd75bf         2017-10-01 06:40:00              OPPO   \n",
       "4  59feaccfa3c446c82ca3e68c         2017-11-05 05:33:20              Sony   \n",
       "5  59f13874bb299b692aeef502         2017-10-26 01:06:40           Samsung   \n",
       "6  59d4f647bb299b692add0d24         2017-10-01 12:13:20               NaN   \n",
       "7  59d8bafdfc67610b4500232b         2017-10-01 17:46:40            Xiaomi   \n",
       "8  59cc674efc67610b45f1c83b         2017-09-28 03:40:00            Xiaomi   \n",
       "9  58b072b134182301374ff77d         2017-09-26 10:00:00              Vivo   \n",
       "\n",
       "    device_model        Date      Time  \n",
       "0       SM-J200G  2017-10-29  06:53:20  \n",
       "1       Redmi 4A  2017-10-02  13:13:20  \n",
       "2  Swipe_Elite_3  2017-09-25  03:26:40  \n",
       "3           A37f  2017-10-01  06:40:00  \n",
       "4          C6902  2017-11-05  05:33:20  \n",
       "5       SM-J700F  2017-10-26  01:06:40  \n",
       "6      OctaOne_5  2017-10-01  12:13:20  \n",
       "7   Redmi Note 4  2017-10-01  17:46:40  \n",
       "8   Redmi Note 4  2017-09-28  03:40:00  \n",
       "9      vivo Y51L  2017-09-26  10:00:00  "
      ]
     },
     "execution_count": 7,
     "metadata": {},
     "output_type": "execute_result"
    }
   ],
   "source": [
    "gameuser_data.head(10)"
   ]
  },
  {
   "cell_type": "markdown",
   "metadata": {},
   "source": [
    "<a id=\"FindNULLVal\"></a>\n",
    "# Finding and Treating NULL Values\n",
    "<hr>"
   ]
  },
  {
   "cell_type": "code",
   "execution_count": 8,
   "metadata": {},
   "outputs": [
    {
     "data": {
      "text/plain": [
       "user_id                          2\n",
       "first_open_timestamp_micros      5\n",
       "mobile_brand_name              617\n",
       "device_model                     0\n",
       "Date                             5\n",
       "Time                             5\n",
       "dtype: int64"
      ]
     },
     "execution_count": 8,
     "metadata": {},
     "output_type": "execute_result"
    }
   ],
   "source": [
    "gameuser_data.isnull().sum() # Gives Variable wise NaN values"
   ]
  },
  {
   "cell_type": "markdown",
   "metadata": {},
   "source": [
    "* As, you can see the variables **'user_id'** and **'first_open_timestamp_micros'** have in total 7 NaN values. Since we can not generate or define these values as user input, it is better to remove the observations associated with it.\n",
    "* **Note:** The NaN values of **Date** and **Time** variable will be removed with the NaN values of **first_open_timestamp_micros** variable."
   ]
  },
  {
   "cell_type": "code",
   "execution_count": 9,
   "metadata": {
    "collapsed": true
   },
   "outputs": [],
   "source": [
    "gameuser_data = gameuser_data[pd.notnull(gameuser_data['user_id'])]\n",
    "gameuser_data = gameuser_data[pd.notnull(gameuser_data['first_open_timestamp_micros'])]"
   ]
  },
  {
   "cell_type": "code",
   "execution_count": 10,
   "metadata": {},
   "outputs": [
    {
     "data": {
      "text/plain": [
       "user_id                          0\n",
       "first_open_timestamp_micros      0\n",
       "mobile_brand_name              617\n",
       "device_model                     0\n",
       "Date                             0\n",
       "Time                             0\n",
       "dtype: int64"
      ]
     },
     "execution_count": 10,
     "metadata": {},
     "output_type": "execute_result"
    }
   ],
   "source": [
    "gameuser_data.isnull().sum()"
   ]
  },
  {
   "cell_type": "code",
   "execution_count": 11,
   "metadata": {},
   "outputs": [
    {
     "data": {
      "text/plain": [
       "(9993, 6)"
      ]
     },
     "execution_count": 11,
     "metadata": {},
     "output_type": "execute_result"
    }
   ],
   "source": [
    "gameuser_data.shape"
   ]
  },
  {
   "cell_type": "markdown",
   "metadata": {},
   "source": [
    "* Now, it can be seen that there are still 617 null values in **'mobile_brand_name'** variable, which is **6.17%** data of total data. And, it is not  a good idea to delete this much of data. So, its better to find a way to fill these NaN values in  **'mobile_brand_name'** variable. <br> \n",
    "* So, what we are going to do is : we will replace the NaN values in **'mobile_brand_name'** according to first few letters of **'device_model' variable**.<br>\n",
    "* **Eg:** Wherever there will be **'SM'** in **'mobile_brand_name'** it wil be replaced with **'Samsung'**"
   ]
  },
  {
   "cell_type": "code",
   "execution_count": 12,
   "metadata": {
    "collapsed": true,
    "scrolled": true
   },
   "outputs": [],
   "source": [
    "gameuser_data.loc[gameuser_data['device_model'].astype(str).str[0:2] == 'SM', 'mobile_brand_name'] = 'Samsung'\n",
    "gameuser_data.loc[gameuser_data['device_model'].astype(str).str[0:5] == 'Redmi', 'mobile_brand_name'] = 'Xiaomi'\n",
    "gameuser_data.loc[gameuser_data['device_model'].astype(str).str[0:2] == 'MI', 'mobile_brand_name'] = 'Xiaomi'\n",
    "gameuser_data.loc[gameuser_data['device_model'].astype(str).str[0:4] == 'vivo', 'mobile_brand_name'] = 'Vivo'\n",
    "\n",
    "gameuser_data.loc[gameuser_data['device_model'].astype(str).str[0:4] == 'Moto', 'mobile_brand_name'] = 'Motorola'\n",
    "gameuser_data.loc[gameuser_data['device_model'].astype(str).str[0:8] == 'Micromax', 'mobile_brand_name'] = 'Micromax'\n",
    "gameuser_data.loc[gameuser_data['device_model'].astype(str).str[0:2] == 'LS', 'mobile_brand_name'] = 'LYF'\n",
    "gameuser_data.loc[gameuser_data['device_model'].astype(str).str[0:6] == 'Lenovo', 'mobile_brand_name'] = 'Lenovo'\n",
    "gameuser_data.loc[gameuser_data['device_model'].astype(str).str[0:4] == 'itel', 'mobile_brand_name'] = 'itel'\n",
    "gameuser_data.loc[gameuser_data['device_model'].astype(str).str[0:9] == 'Panasonic', 'mobile_brand_name'] = 'Panasonic'\n",
    "gameuser_data.loc[gameuser_data['device_model'].astype(str).str[0:5] == 'ELUGA', 'mobile_brand_name'] = 'Panasonic'\n",
    "gameuser_data.loc[gameuser_data['device_model'].astype(str).str[0:2] == 'TA', 'mobile_brand_name'] = 'Nokia'\n",
    "\n",
    "gameuser_data.loc[gameuser_data['device_model'].astype(str).str[0:3] == 'X28', 'mobile_brand_name'] = 'Lava'\n",
    "gameuser_data.loc[gameuser_data['device_model'].astype(str).str[0:3] == 'X41', 'mobile_brand_name'] = 'Lava'\n",
    "gameuser_data.loc[gameuser_data['device_model'].astype(str).str[0:3] == 'X50', 'mobile_brand_name'] = 'Lava'\n",
    "gameuser_data.loc[gameuser_data['device_model'].astype(str).str[0:3] == 'Z60', 'mobile_brand_name'] = 'Lava'\n",
    "gameuser_data.loc[gameuser_data['device_model'].astype(str).str[0:3] == 'Z90', 'mobile_brand_name'] = 'Lava'\n",
    "gameuser_data.loc[gameuser_data['device_model'].astype(str).str[0:3] == 'A97', 'mobile_brand_name'] = 'Lava'\n",
    "gameuser_data.loc[gameuser_data['device_model'].astype(str).str[0:4] == 'iris', 'mobile_brand_name'] = 'Lava'\n",
    "\n",
    "gameuser_data.loc[gameuser_data['device_model'].astype(str).str[0:5] == 'Elite', 'mobile_brand_name'] = 'Elite'\n",
    "gameuser_data.loc[gameuser_data['device_model'].astype(str).str[0:3] == 'Era', 'mobile_brand_name'] = 'Xolo'\n",
    "gameuser_data.loc[gameuser_data['device_model'].astype(str).str[0:5] == 'INTEX', 'mobile_brand_name'] = 'Intex'"
   ]
  },
  {
   "cell_type": "code",
   "execution_count": 13,
   "metadata": {
    "scrolled": true
   },
   "outputs": [
    {
     "data": {
      "text/plain": [
       "user_id                          0\n",
       "first_open_timestamp_micros      0\n",
       "mobile_brand_name              149\n",
       "device_model                     0\n",
       "Date                             0\n",
       "Time                             0\n",
       "dtype: int64"
      ]
     },
     "execution_count": 13,
     "metadata": {},
     "output_type": "execute_result"
    }
   ],
   "source": [
    "gameuser_data.isnull().sum()"
   ]
  },
  {
   "cell_type": "markdown",
   "metadata": {},
   "source": [
    "* As you can see we have 149 NaN values which is 1.5% of the entire data. We can drop these rows now."
   ]
  },
  {
   "cell_type": "code",
   "execution_count": 14,
   "metadata": {
    "collapsed": true
   },
   "outputs": [],
   "source": [
    "gameuser_data = gameuser_data[pd.notnull(gameuser_data['mobile_brand_name'])]"
   ]
  },
  {
   "cell_type": "code",
   "execution_count": 15,
   "metadata": {
    "scrolled": true
   },
   "outputs": [
    {
     "data": {
      "text/plain": [
       "user_id                        0\n",
       "first_open_timestamp_micros    0\n",
       "mobile_brand_name              0\n",
       "device_model                   0\n",
       "Date                           0\n",
       "Time                           0\n",
       "dtype: int64"
      ]
     },
     "execution_count": 15,
     "metadata": {},
     "output_type": "execute_result"
    }
   ],
   "source": [
    "gameuser_data.isnull().sum()"
   ]
  },
  {
   "cell_type": "code",
   "execution_count": 16,
   "metadata": {},
   "outputs": [
    {
     "data": {
      "text/plain": [
       "(9844, 6)"
      ]
     },
     "execution_count": 16,
     "metadata": {},
     "output_type": "execute_result"
    }
   ],
   "source": [
    "gameuser_data.shape"
   ]
  },
  {
   "cell_type": "code",
   "execution_count": 17,
   "metadata": {
    "collapsed": true
   },
   "outputs": [],
   "source": [
    "gameuser_data.to_csv('F:\\Lectures\\Data Science\\Projects\\Python\\Datasets\\gameuser_data_updated.csv',index=False,encoding='utf-8') "
   ]
  },
  {
   "cell_type": "markdown",
   "metadata": {},
   "source": [
    "<a id=\"CountDSLevels\"></a>\n",
    "# Counting Levels in Datasets\n",
    "<hr>"
   ]
  },
  {
   "cell_type": "markdown",
   "metadata": {},
   "source": [
    "Now we have cleaned data. And we can now count the levels of variables in dataset, which is important because it shows the distribution of elements in variable. In addation to that it also shows the wrongly entred elements."
   ]
  },
  {
   "cell_type": "code",
   "execution_count": 37,
   "metadata": {},
   "outputs": [
    {
     "data": {
      "text/plain": [
       "Samsung         3079\n",
       "Xiaomi          1527\n",
       "Vivo            1061\n",
       "OPPO             929\n",
       "Lenovo           564\n",
       "Motorola         490\n",
       "Micromax         363\n",
       "LYF              276\n",
       "Gionee           245\n",
       "Lava             150\n",
       "Intex             93\n",
       "HTC               91\n",
       "Coolpad           88\n",
       "Panasonic         88\n",
       "Asus              85\n",
       "OnePlus           81\n",
       "Huawei            75\n",
       "Sony              64\n",
       "LeTV              47\n",
       "itel              43\n",
       "LG                42\n",
       "Karbonn           41\n",
       "YU                41\n",
       "Xolo              31\n",
       "Nokia             29\n",
       "LeEco             24\n",
       "iZoom             23\n",
       "InFocus           18\n",
       "Google            16\n",
       "Videocon          13\n",
       "iBall             12\n",
       "Elite             10\n",
       "Alcatel            7\n",
       "Ziox               7\n",
       "Tecno              6\n",
       "Spice              6\n",
       "SonyEricsson       5\n",
       "Ampe               5\n",
       "Allview            5\n",
       "Celkon             5\n",
       "Acer               5\n",
       "Magicon            4\n",
       "Meitu              4\n",
       "BlackBerry         4\n",
       "Lephone            3\n",
       "Sansui             3\n",
       "Infinix            3\n",
       "Swipe              3\n",
       "RCA                2\n",
       "iNew               2\n",
       "Zen                2\n",
       "Penta              2\n",
       "PiPO               2\n",
       "Meizu              2\n",
       "ZTE                2\n",
       "Phicomm            2\n",
       "Cubot              2\n",
       "Fujitsu            1\n",
       "QMobile            1\n",
       "Symphony           1\n",
       "Dell               1\n",
       "Hitech             1\n",
       "DOOGEE             1\n",
       "Pioneer            1\n",
       "Elekta             1\n",
       "ZXD                1\n",
       "InnJoo             1\n",
       "iOcean             1\n",
       "G-Five             1\n",
       "Name: mobile_brand_name, dtype: int64"
      ]
     },
     "execution_count": 37,
     "metadata": {},
     "output_type": "execute_result"
    }
   ],
   "source": [
    "pd.options.display.max_rows\n",
    "gameuser_data.mobile_brand_name.value_counts()"
   ]
  },
  {
   "cell_type": "code",
   "execution_count": 19,
   "metadata": {},
   "outputs": [
    {
     "data": {
      "text/plain": [
       "SM-J200G                   550\n",
       "Redmi Note 4               462\n",
       "SM-J700F                   405\n",
       "SM-J210F                   309\n",
       "A37f                       275\n",
       "Redmi 3S                   253\n",
       "Redmi 4A                   252\n",
       "SM-G610F                   242\n",
       "Redmi Note 3               218\n",
       "Redmi 4                    199\n",
       "vivo 1606                  193\n",
       "A1601                      160\n",
       "vivo Y21L                  154\n",
       "A33f                       147\n",
       "vivo 1610                  145\n",
       "vivo Y51L                  140\n",
       "SM-J710F                   138\n",
       "SM-J500F                   118\n",
       "A37fw                      118\n",
       "SM-J701F                   104\n",
       "CPH1701                    104\n",
       "vivo 1603                   98\n",
       "vivo 1601                   86\n",
       "SM-G570F                    79\n",
       "SM-G615F                    75\n",
       "Moto G (4)                  72\n",
       "SM-G550FY                   70\n",
       "SM-G600FY                   66\n",
       "SM-G531F                    62\n",
       "CPH1609                     61\n",
       "                          ... \n",
       "Astra Colors 4G              1\n",
       "HTC One                      1\n",
       "8050D                        1\n",
       "SAMSUNG-SM-G900A             1\n",
       "Lenovo S60-a                 1\n",
       "Lenovo TAB 2 A8-50F          1\n",
       "SM-J106F                     1\n",
       "3001                         1\n",
       "MediaPad T1 8.0              1\n",
       "ASUS_T00I                    1\n",
       "Micromax Q400                1\n",
       "Penta_WS704D                 1\n",
       "Omega 5.0                    1\n",
       "LG-H990                      1\n",
       "iris 600                     1\n",
       "HTC Desire 610               1\n",
       "SM-T825                      1\n",
       "Spice Mi-498                 1\n",
       "Micromax A116                1\n",
       "Micromax E4816               1\n",
       "Titanium Octane              1\n",
       "SM-N910G                     1\n",
       "G3116                        1\n",
       "Titanium S1                  1\n",
       "Quattro L52 VR               1\n",
       "D5803                        1\n",
       "iris X1 Grand                1\n",
       "era                          1\n",
       "HTC Desire 10 lifestyle      1\n",
       "K9 Smart 1GB                 1\n",
       "Name: device_model, Length: 858, dtype: int64"
      ]
     },
     "execution_count": 19,
     "metadata": {},
     "output_type": "execute_result"
    }
   ],
   "source": [
    "pd.options.display.max_rows\n",
    "gameuser_data.device_model.value_counts()"
   ]
  },
  {
   "cell_type": "markdown",
   "metadata": {},
   "source": [
    "<a id=\"Plots\"></a>\n",
    "# Plot and Graphs \n",
    "<hr>"
   ]
  },
  {
   "cell_type": "markdown",
   "metadata": {},
   "source": [
    "Now, we are going to make some graphs to draw some insights for our cleaned dataset. <br>\n",
    "**Note:** I tried plotting graphs with Matplotlib and Seaborn. But the graphs was looking messy and taking a long time to generate. So, I will be using Tableau instead to plot the graphs. <br>\n",
    "**Note:** To view the below graphs you might have to sign up and login to Tableau Online account. [[Sign Up]](https://www.tableau.com/products/cloud-bi?ab=1#form) [[Sign In]](https://sso.online.tableau.com/public/idp/SSO)"
   ]
  },
  {
   "cell_type": "code",
   "execution_count": 32,
   "metadata": {
    "scrolled": true
   },
   "outputs": [
    {
     "data": {
      "text/html": [
       "<script type='text/javascript' src='https://dub01.online.tableau.com/javascripts/api/viz_v1.js'></script><div class='tableauPlaceholder' style='width: 1366px; height: 582px;'><object class='tableauViz' width='1366' height='582' style='display:none;'><param name='host_url' value='https%3A%2F%2Fdub01.online.tableau.com%2F' /> <param name='embed_code_version' value='3' /> <param name='site_root' value='&#47;t&#47;dsatyajit' /><param name='name' value='Absentia_Intern_Test&#47;AppOccurences' /><param name='tabs' value='no' /><param name='toolbar' value='no' /><param name='showAppBanner' value='false' /><param name='filter' value='iframeSizedToWindow=true' /></object></div>"
      ],
      "text/plain": [
       "<IPython.core.display.HTML object>"
      ]
     },
     "metadata": {},
     "output_type": "display_data"
    }
   ],
   "source": [
    "%%HTML\n",
    "<script type='text/javascript' src='https://dub01.online.tableau.com/javascripts/api/viz_v1.js'></script><div class='tableauPlaceholder' style='width: 1366px; height: 582px;'><object class='tableauViz' width='1366' height='582' style='display:none;'><param name='host_url' value='https%3A%2F%2Fdub01.online.tableau.com%2F' /> <param name='embed_code_version' value='3' /> <param name='site_root' value='&#47;t&#47;dsatyajit' /><param name='name' value='Absentia_Intern_Test&#47;AppOccurences' /><param name='tabs' value='no' /><param name='toolbar' value='no' /><param name='showAppBanner' value='false' /><param name='filter' value='iframeSizedToWindow=true' /></object></div>"
   ]
  },
  {
   "cell_type": "markdown",
   "metadata": {},
   "source": [
    "The above bar graph shows the number of time the game app was opened by users according to the mobile brand. As you can see the users of mobile brands like **Samsung, Xiaomi, Vivo, OPPO, Lenovo, Motorola, Micromax, LYF, Gionee and Lava** are the top 10 mobile brands users who have opened the game app most of the time and these top 10 brands make about **88.21%** of total data."
   ]
  },
  {
   "cell_type": "code",
   "execution_count": 24,
   "metadata": {},
   "outputs": [
    {
     "data": {
      "text/html": [
       "<script type='text/javascript' src='https://dub01.online.tableau.com/javascripts/api/viz_v1.js'></script><div class='tableauPlaceholder' style='width: 1366px; height: 582px;'><object class='tableauViz' width='1366' height='582' style='display:none;'><param name='host_url' value='https%3A%2F%2Fdub01.online.tableau.com%2F' /> <param name='embed_code_version' value='3' /> <param name='site_root' value='&#47;t&#47;dsatyajit' /><param name='name' value='Absentia_Intern_Test&#47;AppOccurences-ModelWise' /><param name='tabs' value='no' /><param name='toolbar' value='no' /><param name='showAppBanner' value='false' /><param name='filter' value='iframeSizedToWindow=true' /></object></div>"
      ],
      "text/plain": [
       "<IPython.core.display.HTML object>"
      ]
     },
     "metadata": {},
     "output_type": "display_data"
    }
   ],
   "source": [
    "%%HTML\n",
    "<script type='text/javascript' src='https://dub01.online.tableau.com/javascripts/api/viz_v1.js'></script><div class='tableauPlaceholder' style='width: 1366px; height: 582px;'><object class='tableauViz' width='1366' height='582' style='display:none;'><param name='host_url' value='https%3A%2F%2Fdub01.online.tableau.com%2F' /> <param name='embed_code_version' value='3' /> <param name='site_root' value='&#47;t&#47;dsatyajit' /><param name='name' value='Absentia_Intern_Test&#47;AppOccurences-ModelWise' /><param name='tabs' value='no' /><param name='toolbar' value='no' /><param name='showAppBanner' value='false' /><param name='filter' value='iframeSizedToWindow=true' /></object></div>"
   ]
  },
  {
   "cell_type": "markdown",
   "metadata": {},
   "source": [
    "The above tree graph shows the number of time the game app was opened by the user according to **mobile model** and separated by **mobile Brands**. If you hover over each block of the graph it will show you the total percentage share and number of occurrences of that particular mobile model in the whole population."
   ]
  },
  {
   "cell_type": "code",
   "execution_count": 25,
   "metadata": {},
   "outputs": [
    {
     "data": {
      "text/html": [
       "<script type='text/javascript' src='https://dub01.online.tableau.com/javascripts/api/viz_v1.js'></script><div class='tableauPlaceholder' style='width: 1366px; height: 582px;'><object class='tableauViz' width='1366' height='582' style='display:none;'><param name='host_url' value='https%3A%2F%2Fdub01.online.tableau.com%2F' /> <param name='embed_code_version' value='3' /> <param name='site_root' value='&#47;t&#47;dsatyajit' /><param name='name' value='Absentia_Intern_Test&#47;PercentWiseMobModel' /><param name='tabs' value='no' /><param name='toolbar' value='no' /><param name='showAppBanner' value='false' /><param name='filter' value='iframeSizedToWindow=true' /></object></div>"
      ],
      "text/plain": [
       "<IPython.core.display.HTML object>"
      ]
     },
     "metadata": {},
     "output_type": "display_data"
    }
   ],
   "source": [
    "%%HTML\n",
    "<script type='text/javascript' src='https://dub01.online.tableau.com/javascripts/api/viz_v1.js'></script><div class='tableauPlaceholder' style='width: 1366px; height: 582px;'><object class='tableauViz' width='1366' height='582' style='display:none;'><param name='host_url' value='https%3A%2F%2Fdub01.online.tableau.com%2F' /> <param name='embed_code_version' value='3' /> <param name='site_root' value='&#47;t&#47;dsatyajit' /><param name='name' value='Absentia_Intern_Test&#47;PercentWiseMobModel' /><param name='tabs' value='no' /><param name='toolbar' value='no' /><param name='showAppBanner' value='false' /><param name='filter' value='iframeSizedToWindow=true' /></object></div>"
   ]
  },
  {
   "cell_type": "markdown",
   "metadata": {},
   "source": [
    "The above tree graph shows the percentage wise mobile models who opened the game app. It can be seen that though mobile brand wise **Samsung** dominates the game opening app but when it comes to mobile model wise comparison the other brands like **Xiaomi, Vivo and OPPO** have a big chunk of game openings associated with them too. <br>\n",
    "**So, if you look at first 24 blocks in this graph (vertically selected) which covers 50.27% of data which shows the other mobiles brands have mobile models close to Samsung.** Shown in Table below.\n"
   ]
  },
  {
   "cell_type": "code",
   "execution_count": 38,
   "metadata": {},
   "outputs": [
    {
     "data": {
      "text/html": [
       "<script type='text/javascript' src='https://dub01.online.tableau.com/javascripts/api/viz_v1.js'></script><div class='tableauPlaceholder' style='width: 1366px; height: 582px;'><object class='tableauViz' width='1366' height='582' style='display:none;'><param name='host_url' value='https%3A%2F%2Fdub01.online.tableau.com%2F' /> <param name='embed_code_version' value='3' /> <param name='site_root' value='&#47;t&#47;dsatyajit' /><param name='name' value='Absentia_Intern_Test&#47;PercentMobModels' /><param name='tabs' value='no' /><param name='toolbar' value='no' /><param name='showAppBanner' value='false' /><param name='filter' value='iframeSizedToWindow=true' /></object></div>"
      ],
      "text/plain": [
       "<IPython.core.display.HTML object>"
      ]
     },
     "metadata": {},
     "output_type": "display_data"
    }
   ],
   "source": [
    "%%HTML\n",
    "<script type='text/javascript' src='https://dub01.online.tableau.com/javascripts/api/viz_v1.js'></script><div class='tableauPlaceholder' style='width: 1366px; height: 582px;'><object class='tableauViz' width='1366' height='582' style='display:none;'><param name='host_url' value='https%3A%2F%2Fdub01.online.tableau.com%2F' /> <param name='embed_code_version' value='3' /> <param name='site_root' value='&#47;t&#47;dsatyajit' /><param name='name' value='Absentia_Intern_Test&#47;PercentMobModels' /><param name='tabs' value='no' /><param name='toolbar' value='no' /><param name='showAppBanner' value='false' /><param name='filter' value='iframeSizedToWindow=true' /></object></div>"
   ]
  },
  {
   "cell_type": "code",
   "execution_count": 27,
   "metadata": {},
   "outputs": [
    {
     "data": {
      "text/html": [
       "<script type='text/javascript' src='https://dub01.online.tableau.com/javascripts/api/viz_v1.js'></script><div class='tableauPlaceholder' style='width: 1366px; height: 582px;'><object class='tableauViz' width='1366' height='582' style='display:none;'><param name='host_url' value='https%3A%2F%2Fdub01.online.tableau.com%2F' /> <param name='embed_code_version' value='3' /> <param name='site_root' value='&#47;t&#47;dsatyajit' /><param name='name' value='Absentia_Intern_Test&#47;AppHours-ModelWise' /><param name='tabs' value='no' /><param name='toolbar' value='no' /><param name='showAppBanner' value='false' /><param name='filter' value='iframeSizedToWindow=true' /></object></div>"
      ],
      "text/plain": [
       "<IPython.core.display.HTML object>"
      ]
     },
     "metadata": {},
     "output_type": "display_data"
    }
   ],
   "source": [
    "%%HTML\n",
    "<script type='text/javascript' src='https://dub01.online.tableau.com/javascripts/api/viz_v1.js'></script><div class='tableauPlaceholder' style='width: 1366px; height: 582px;'><object class='tableauViz' width='1366' height='582' style='display:none;'><param name='host_url' value='https%3A%2F%2Fdub01.online.tableau.com%2F' /> <param name='embed_code_version' value='3' /> <param name='site_root' value='&#47;t&#47;dsatyajit' /><param name='name' value='Absentia_Intern_Test&#47;AppHours-ModelWise' /><param name='tabs' value='no' /><param name='toolbar' value='no' /><param name='showAppBanner' value='false' /><param name='filter' value='iframeSizedToWindow=true' /></object></div>"
   ]
  },
  {
   "cell_type": "markdown",
   "metadata": {},
   "source": [
    "The above tree graph is seperated by mobile models which shows total number of hours the game app was open by each mobile model. So, if we compare by how much time the game app was opened and by which mobile model. We can see that more than 50% of time the game app was opened by mobile brands like **Samsung, Xiaomi, Vivo, OPPO, Lenovo, Motorola, Micromax, LYF, Gionee and Lava**."
   ]
  },
  {
   "cell_type": "code",
   "execution_count": 28,
   "metadata": {},
   "outputs": [
    {
     "data": {
      "text/html": [
       "<script type='text/javascript' src='https://dub01.online.tableau.com/javascripts/api/viz_v1.js'></script><div class='tableauPlaceholder' style='width: 1366px; height: 582px;'><object class='tableauViz' width='1366' height='582' style='display:none;'><param name='host_url' value='https%3A%2F%2Fdub01.online.tableau.com%2F' /> <param name='embed_code_version' value='3' /> <param name='site_root' value='&#47;t&#47;dsatyajit' /><param name='name' value='Absentia_Intern_Test&#47;QuarterlyOpened' /><param name='tabs' value='no' /><param name='toolbar' value='no' /><param name='showAppBanner' value='false' /><param name='filter' value='iframeSizedToWindow=true' /></object></div>"
      ],
      "text/plain": [
       "<IPython.core.display.HTML object>"
      ]
     },
     "metadata": {},
     "output_type": "display_data"
    }
   ],
   "source": [
    "%%HTML\n",
    "<script type='text/javascript' src='https://dub01.online.tableau.com/javascripts/api/viz_v1.js'></script><div class='tableauPlaceholder' style='width: 1366px; height: 582px;'><object class='tableauViz' width='1366' height='582' style='display:none;'><param name='host_url' value='https%3A%2F%2Fdub01.online.tableau.com%2F' /> <param name='embed_code_version' value='3' /> <param name='site_root' value='&#47;t&#47;dsatyajit' /><param name='name' value='Absentia_Intern_Test&#47;QuarterlyOpened' /><param name='tabs' value='no' /><param name='toolbar' value='no' /><param name='showAppBanner' value='false' /><param name='filter' value='iframeSizedToWindow=true' /></object></div>"
   ]
  },
  {
   "cell_type": "markdown",
   "metadata": {},
   "source": [
    "From this table, it can be seen that in 2017 the **game app is opened more in the fourth quarter of 2017** as compared with the third quarter. The app access **was increased by 97.94%** in Q4 of 2017. (See the grand total at bottom of the table)"
   ]
  },
  {
   "cell_type": "code",
   "execution_count": 29,
   "metadata": {},
   "outputs": [
    {
     "data": {
      "text/html": [
       "<script type='text/javascript' src='https://dub01.online.tableau.com/javascripts/api/viz_v1.js'></script><div class='tableauPlaceholder' style='width: 1366px; height: 582px;'><object class='tableauViz' width='1366' height='582' style='display:none;'><param name='host_url' value='https%3A%2F%2Fdub01.online.tableau.com%2F' /> <param name='embed_code_version' value='3' /> <param name='site_root' value='&#47;t&#47;dsatyajit' /><param name='name' value='Absentia_Intern_Test&#47;WeekdayOpened' /><param name='tabs' value='no' /><param name='toolbar' value='no' /><param name='showAppBanner' value='false' /><param name='filter' value='iframeSizedToWindow=true' /></object></div>"
      ],
      "text/plain": [
       "<IPython.core.display.HTML object>"
      ]
     },
     "metadata": {},
     "output_type": "display_data"
    }
   ],
   "source": [
    "%%HTML\n",
    "<script type='text/javascript' src='https://dub01.online.tableau.com/javascripts/api/viz_v1.js'></script><div class='tableauPlaceholder' style='width: 1366px; height: 582px;'><object class='tableauViz' width='1366' height='582' style='display:none;'><param name='host_url' value='https%3A%2F%2Fdub01.online.tableau.com%2F' /> <param name='embed_code_version' value='3' /> <param name='site_root' value='&#47;t&#47;dsatyajit' /><param name='name' value='Absentia_Intern_Test&#47;WeekdayOpened' /><param name='tabs' value='no' /><param name='toolbar' value='no' /><param name='showAppBanner' value='false' /><param name='filter' value='iframeSizedToWindow=true' /></object></div>"
   ]
  },
  {
   "cell_type": "markdown",
   "metadata": {},
   "source": [
    "**Assuming that the given data of users is based on India data:** <br>\n",
    "The above graph shows the number of time the game opened on all days of the week in last two quarters of 2017. As you can see in Q3 only on Fridays and Saturdays there was high volume app openings as compared to Q4. But in Q4, you can see a high increase of app opening on Sundays and Mondays.  Also, there is the high increase of app openings in all the weekdays of Q4 as compared to all the weekdays of Q3. <br>\n",
    "This could happen because in India there are more holidays in Q4 than Q3. Like Diwali and Christmas Holidays comes in Q4. <br>\n",
    "_**Note:** The percentage shown in graph is the percent share of app opened each quarter._"
   ]
  },
  {
   "cell_type": "code",
   "execution_count": 30,
   "metadata": {},
   "outputs": [
    {
     "data": {
      "text/html": [
       "<script type='text/javascript' src='https://dub01.online.tableau.com/javascripts/api/viz_v1.js'></script><div class='tableauPlaceholder' style='width: 1366px; height: 582px;'><object class='tableauViz' width='1366' height='582' style='display:none;'><param name='host_url' value='https%3A%2F%2Fdub01.online.tableau.com%2F' /> <param name='embed_code_version' value='3' /> <param name='site_root' value='&#47;t&#47;dsatyajit' /><param name='name' value='Absentia_Intern_Test&#47;BrandWiseOpenedWeekdays' /><param name='tabs' value='no' /><param name='toolbar' value='no' /><param name='showAppBanner' value='false' /><param name='filter' value='iframeSizedToWindow=true' /></object></div>"
      ],
      "text/plain": [
       "<IPython.core.display.HTML object>"
      ]
     },
     "metadata": {},
     "output_type": "display_data"
    }
   ],
   "source": [
    "%%HTML\n",
    "<script type='text/javascript' src='https://dub01.online.tableau.com/javascripts/api/viz_v1.js'></script><div class='tableauPlaceholder' style='width: 1366px; height: 582px;'><object class='tableauViz' width='1366' height='582' style='display:none;'><param name='host_url' value='https%3A%2F%2Fdub01.online.tableau.com%2F' /> <param name='embed_code_version' value='3' /> <param name='site_root' value='&#47;t&#47;dsatyajit' /><param name='name' value='Absentia_Intern_Test&#47;BrandWiseOpenedWeekdays' /><param name='tabs' value='no' /><param name='toolbar' value='no' /><param name='showAppBanner' value='false' /><param name='filter' value='iframeSizedToWindow=true' /></object></div>"
   ]
  },
  {
   "cell_type": "markdown",
   "metadata": {},
   "source": [
    "This graph shows app opened on weekdays of top 15 mobile brands of two quarters of 2017. Here you can see that there is a high volume of app opening from Thursdays to Sundays in both the quarters. But in Q4 on Mondays, there is also a high volume of openings. "
   ]
  },
  {
   "cell_type": "markdown",
   "metadata": {},
   "source": [
    "<a id=\"Plots\"></a>\n",
    "# Conclusion\n",
    "<hr>"
   ]
  },
  {
   "cell_type": "markdown",
   "metadata": {},
   "source": [
    "The game app opening is dominated by mobile users of brands like **Samsung, Xiaomi, Vivo, OPPO, Lenovo, Motorola, Micromax, LYF, Gionee and Lava** out of 69 mobile brands. And these mobile brand makes 88.21% of the total data. It is seen that though mobile brand wise Samsung dominates the game opening app but when it comes to mobile model wise comparison the other brands like **Xiaomi, Vivo and OPPO** have a big chunk of game openings associated with them too. Mobile models of these brands make 50.27% of data. <br>\n",
    "In addition to this, the users of above top 10 mobile brands dominate the number of hours the game app opening. However, Samsung dominates in both accessing app by time and by the number of occurrences. <br>\n",
    "Furthermore, it is seen that the game app opening was **increased by  97.94% in Q4 of 2017**, as compared to Q3. This could happen because in India there are more holidays in Q4 than Q3. Like Diwali and Christmas Holidays comes in Q4. The high volume of app opening was seeing from Thursdays to Sundays in both the quarters. But in Q4 on Mondays, there is also a high volume of openings. <br>"
   ]
  }
 ],
 "metadata": {
  "kernelspec": {
   "display_name": "Python 3",
   "language": "python",
   "name": "python3"
  },
  "language_info": {
   "codemirror_mode": {
    "name": "ipython",
    "version": 3
   },
   "file_extension": ".py",
   "mimetype": "text/x-python",
   "name": "python",
   "nbconvert_exporter": "python",
   "pygments_lexer": "ipython3",
   "version": "3.6.2"
  }
 },
 "nbformat": 4,
 "nbformat_minor": 2
}
